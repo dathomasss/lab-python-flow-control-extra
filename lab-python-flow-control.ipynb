{
 "cells": [
  {
   "cell_type": "markdown",
   "id": "d3bfc191-8885-42ee-b0a0-bbab867c6f9f",
   "metadata": {
    "tags": []
   },
   "source": [
    "# Lab | Flow Control"
   ]
  },
  {
   "cell_type": "markdown",
   "id": "303cceb0-f898-4c5f-99bd-c04e131e1ded",
   "metadata": {},
   "source": [
    "Objective: Practice how to use programming constructs like if/else statements and loops to control the flow of a program's execution."
   ]
  },
  {
   "cell_type": "markdown",
   "id": "42fd260a-9eb2-4c39-9989-f2c8c70552ec",
   "metadata": {},
   "source": [
    "## Challenge: The Haunted Mansion"
   ]
  },
  {
   "cell_type": "markdown",
   "id": "7086f8f7-ded2-48e5-b966-7ec44fb57ca5",
   "metadata": {},
   "source": [
    "You are a brave adventurer who has decided to explore the Haunted Mansion, a decrepit old building that is rumored to be haunted by ghosts and spirits. Your objective is to find the treasure that is hidden somewhere in the mansion.\n",
    "\n",
    "## Requirements\n",
    "\n",
    "- Your script should have at least two functions: \"run_mansion()\" and \"encounter_ghost()\".\n",
    "- Your script should use if-else statements, while loops, for loops, combined loops, or nested loops to control the flow of execution.\n",
    "- Your script should prompt the user for input to make decisions on which path to take or what actions to perform.\n",
    "- Your script should include random events and obstacles that can either help or hinder the adventurer in their quest.\n",
    "- Your script should have an objective of finding the treasure at the end of the mansion.\n",
    "\n",
    "## Instructions\n",
    "\n",
    "- Begin by creating a list of items that the adventurer can pick up along the way. These items will be used to help the adventurer overcome obstacles and defeat ghosts. Examples of items can be weapons, potions, keys, etc.\n",
    "\n",
    "- Complete the function called \"run_mansion()\" that serves as the main function for the game. Within \"run_mansion()\", prompt the user to choose a path to take at each intersection. Each path should have its unique challenges and obstacles that the adventurer must overcome.\n",
    "\n",
    "- Use loops to check if the adventurer has enough health points to continue the game. If their health points drop to zero, the game is over.\n",
    "\n",
    "- Complete the function called \"encounter_ghost()\" that will be used to handle ghost encounters. The function should use random events to determine the outcome of the encounter, and the adventurer should use their items to help them defeat the ghost.\n",
    "\n",
    "- Use loops to generate random events or items along the way. These events can either help or hinder the adventurer, and the outcome should be based on random chance.\n",
    "\n",
    "- At the end of the mansion, the adventurer will find the treasure, and the game will end.\n",
    "\n"
   ]
  },
  {
   "cell_type": "markdown",
   "id": "8846d61d-cf9d-4ad4-bbb8-1ecb3bb22005",
   "metadata": {},
   "source": [
    "*Introduction to Functions*:\n",
    "\n",
    "    Functions are blocks of code that perform a specific task. They are used to break up complex code into smaller, more manageable parts, which can make your code easier to read and understand. Functions can also be reused multiple times throughout your code, which can save you a lot of time and effort.\n",
    "\n",
    "    Functions are defined using the def keyword, followed by the name of the function and a set of parentheses. Inside the parentheses, you can list any arguments that the function needs in order to perform its task. These arguments are optional, but they can be useful if you need to pass data into the function from outside.\n",
    "\n",
    "    Once you have defined a function, you can call it from anywhere in your code using its name and passing any necessary arguments. When the function is called, the code inside it is executed, and any values that it returns are passed back to the calling code.\n",
    "\n",
    "    In this exercise, we have defined a function called encounter_ghost that simulates a battle between the adventurer and a ghost, and run_mansion. Your task is to complete these functions by using flow control statements such as if, else, while, for loops, and nested loops. Remember to pay attention to the instructions and comments provided in the function to help guide you. Once you have completed the function encounter_ghost, you can call it from the main code to simulate the battle and test your implementation.\n",
    "\n",
    "    Good luck!"
   ]
  },
  {
   "cell_type": "code",
   "execution_count": 3,
   "id": "499552c8-9e30-46e1-a706-4ac5dc64670e",
   "metadata": {},
   "outputs": [
    {
     "name": "stdout",
     "output_type": "stream",
     "text": [
      "You encounter a ghost!\n",
      "You defeated the ghost !\n",
      "(2, True)\n"
     ]
    }
   ],
   "source": [
    "#list of item : weapons, potion, keys\n",
    "#inviter le joueur à choisir à chaque intersection, Chaque chemin doit avoir ses défis et obstacles uniques que l'aventurier doit surmonter\n",
    "#vérifier si le joueur à toujours assez de point de vie pour continuer\n",
    "#fct encounter_ghost détermine l'issue de la recontre face à un fantôme avec event aléatoire, le joeueur doit utiliser items pour vaincre\n",
    "#le trésor est à la fin du manoire\n",
    "\n",
    "\n",
    "\n",
    "import random\n",
    "\n",
    "\n",
    "\n",
    "def encounter_ghost():\n",
    "    print(\"You encounter a ghost!\")\n",
    "    win = False\n",
    "\n",
    "    random_number = random.randint(1, 10)\n",
    "    if random_number <= 5 :\n",
    "        win = True\n",
    "        print (\"You defeated the ghost !\")\n",
    "    else :\n",
    "        print (\"You lost the battle...\")\n",
    "    \n",
    "    return random_number, win\n",
    "    \n",
    "    print (f\"You've had {random_number}\")\n",
    "print (encounter_ghost())\n",
    "\n"
   ]
  },
  {
   "cell_type": "code",
   "execution_count": 1,
   "id": "3a26997d-e5f7-4c66-8e8f-9b27a54f65b9",
   "metadata": {},
   "outputs": [
    {
     "name": "stdout",
     "output_type": "stream",
     "text": [
      "Welcome to the Haunted Mansion!\n",
      "\n",
      "You're still in the mansion\n"
     ]
    },
    {
     "name": "stdin",
     "output_type": "stream",
     "text": [
      "Where do you want to go ? left\n"
     ]
    },
    {
     "name": "stdout",
     "output_type": "stream",
     "text": [
      "You got the potion, but not the keys to go out\n",
      "try to see what there is on the right side\n",
      "Here is your items : {'keys': '', 'potion': 'yes'}\n",
      "\n",
      "You're still in the mansion\n"
     ]
    },
    {
     "name": "stdin",
     "output_type": "stream",
     "text": [
      "Where do you want to go ? right\n"
     ]
    },
    {
     "name": "stdout",
     "output_type": "stream",
     "text": [
      "You encounter a ghost!\n",
      "You lost the battle...\n",
      "Here is your health points : 8\n",
      "\n",
      "You're still in the mansion\n"
     ]
    },
    {
     "name": "stdin",
     "output_type": "stream",
     "text": [
      "Where do you want to go ? left\n"
     ]
    },
    {
     "name": "stdout",
     "output_type": "stream",
     "text": [
      "You got the potion, but not the keys to go out\n",
      "try to see what there is on the right side\n",
      "Here is your items : {'keys': '', 'potion': 'yes'}\n",
      "\n",
      "You're still in the mansion\n"
     ]
    },
    {
     "name": "stdin",
     "output_type": "stream",
     "text": [
      "Where do you want to go ? right\n"
     ]
    },
    {
     "name": "stdout",
     "output_type": "stream",
     "text": [
      "You encounter a ghost!\n",
      "You defeated the ghost !\n",
      "You got the key\n",
      "Here is your items : {'keys': 'yes', 'potion': 'yes'}\n",
      "\n",
      "You unlocked the door and found the Treasure ! Congrats !\n"
     ]
    }
   ],
   "source": [
    "# main function for the game\n",
    "import random\n",
    "\n",
    "\n",
    "health_points = 10\n",
    "items = { \n",
    "        \"keys\" : \"\",\n",
    "        \"potion\" : \"\"\n",
    "        }\n",
    "\n",
    "def encounter_ghost():\n",
    "    print(\"You encounter a ghost!\")\n",
    "    win = False\n",
    "\n",
    "    global health_points\n",
    "    global items\n",
    "\n",
    "    random_number = random.randint(1, 10)\n",
    "    if random_number <= 5 :\n",
    "        win = True\n",
    "        print (\"You defeated the ghost !\")\n",
    "        print (\"You got the key\")\n",
    "        items[\"keys\"] = \"yes\"\n",
    "        print (f\"Here is your items : {items}\")\n",
    "        \n",
    "    else :\n",
    "        print (\"You lost the battle...\")\n",
    "        health_points -= 2\n",
    "        print (f\"Here is your health points : {health_points}\")\n",
    "    \n",
    "    return random_number\n",
    "    \n",
    "    print (f\"You've had {random_number}\")\n",
    "\n",
    "\n",
    "\n",
    "\n",
    "def run_mansion():\n",
    "\n",
    "\n",
    "    choice = str(input(\"Where do you want to go ?\").lower())\n",
    "\n",
    "    global health_points\n",
    "    global items\n",
    "\n",
    "    \n",
    "    if choice == \"left\":\n",
    "        chance = random.randint(1, 2)\n",
    "        if chance == 1:\n",
    "            print(\"You got the potion, but not the keys to go out\")\n",
    "            print(\"try to see what there is on the right side\")\n",
    "            items[\"potion\"] = \"yes\"\n",
    "            print (f\"Here is your items : {items}\")\n",
    "        else:\n",
    "            print (\"You fall on a trap and loose 2 health points\")\n",
    "            health_points -= 2\n",
    "            print (f\"Here is your health points : {health_points}\")\n",
    "\n",
    "    elif choice == \"right\":\n",
    "        encounter_ghost()\n",
    "\n",
    "    else :\n",
    "        print (\"Try to choose again\")\n",
    "        print (\"You cannot cross the wall, we are not in Harry Potter\")\n",
    "\n",
    "    return health_points, items\n",
    "\n",
    "print(\"Welcome to the Haunted Mansion!\")\n",
    "\n",
    "while items[\"keys\"] != \"yes\" and health_points > 0:\n",
    "    print ()\n",
    "    print (\"You're still in the mansion\")\n",
    "    run_mansion()\n",
    "    \n",
    "    if health_points == 0:\n",
    "        print()\n",
    "        print (\"Game over, you lost all your health points\")\n",
    "\n",
    "\n",
    "    if items[\"keys\"] == \"yes\":\n",
    "        print()\n",
    "        print (\"You unlocked the door and found the Treasure ! Congrats !\")\n",
    "    \n",
    "      \n",
    "        \n",
    "\n",
    "  "
   ]
  },
  {
   "cell_type": "markdown",
   "id": "88212f63-3bdb-479f-bf6c-4ecd0685d39a",
   "metadata": {},
   "source": [
    "This should print the game's narrative and prompt the user to make choices and fight ghosts. The game ends when the adventurer finds the key or loses all their health points. "
   ]
  }
 ],
 "metadata": {
  "kernelspec": {
   "display_name": "Python 3 (ipykernel)",
   "language": "python",
   "name": "python3"
  },
  "language_info": {
   "codemirror_mode": {
    "name": "ipython",
    "version": 3
   },
   "file_extension": ".py",
   "mimetype": "text/x-python",
   "name": "python",
   "nbconvert_exporter": "python",
   "pygments_lexer": "ipython3",
   "version": "3.12.7"
  }
 },
 "nbformat": 4,
 "nbformat_minor": 5
}
